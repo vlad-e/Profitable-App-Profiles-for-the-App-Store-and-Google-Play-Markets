{
 "cells": [
  {
   "cell_type": "markdown",
   "metadata": {},
   "source": [
    "# Profitable App Profiles for the App Store and Google Play Markets\n",
    "\n",
    "\n",
    "#### Objectives:\n",
    "\n",
    "Early stage project , aimed to make us familiar with the Jupyter functions and work with pure Python functions to analyze data\n",
    "The goal would be to determine a good market for a new app, and maybe determining what kind of app would be a good idea to produce.\n",
    "\n",
    "##### Resources used:\n",
    "\n",
    "**Anaconda distribution** - *Jupyter Notebook v 5.7.8*, *Python 3.7.3*\n"
   ]
  },
  {
   "cell_type": "code",
   "execution_count": 10,
   "metadata": {
    "scrolled": false
   },
   "outputs": [
    {
     "name": "stdout",
     "output_type": "stream",
     "text": [
      "['284882215', 'Facebook', '389879808', 'USD', '0.0', '2974676', '212', '3.5', '3.5', '95.0', '4+', 'Social Networking', '37', '1', '29', '1']\n",
      "\n",
      "\n",
      "['389801252', 'Instagram', '113954816', 'USD', '0.0', '2161558', '1289', '4.5', '4.0', '10.23', '12+', 'Photo & Video', '37', '0', '29', '1']\n",
      "\n",
      "\n",
      "['529479190', 'Clash of Clans', '116476928', 'USD', '0.0', '2130805', '579', '4.5', '4.5', '9.24.12', '9+', 'Games', '38', '5', '18', '1']\n",
      "\n",
      "\n",
      "['420009108', 'Temple Run', '65921024', 'USD', '0.0', '1724546', '3842', '4.5', '4.0', '1.6.2', '9+', 'Games', '40', '5', '1', '1']\n",
      "\n",
      "\n",
      "['Photo Editor & Candy Camera & Grid & ScrapBook', 'ART_AND_DESIGN', '4.1', '159', '19M', '10,000+', 'Free', '0', 'Everyone', 'Art & Design', 'January 7, 2018', '1.0.0', '4.0.3 and up']\n",
      "\n",
      "\n",
      "['Coloring book moana', 'ART_AND_DESIGN', '3.9', '967', '14M', '500,000+', 'Free', '0', 'Everyone', 'Art & Design;Pretend Play', 'January 15, 2018', '2.0.0', '4.0.3 and up']\n",
      "\n",
      "\n",
      "['U Launcher Lite – FREE Live Cool Themes, Hide Apps', 'ART_AND_DESIGN', '4.7', '87510', '8.7M', '5,000,000+', 'Free', '0', 'Everyone', 'Art & Design', 'August 1, 2018', '1.2.4', '4.0.3 and up']\n",
      "\n",
      "\n",
      "['Sketch - Draw & Paint', 'ART_AND_DESIGN', '4.5', '215644', '25M', '50,000,000+', 'Free', '0', 'Teen', 'Art & Design', 'June 8, 2018', 'Varies with device', '4.2 and up']\n",
      "\n",
      "\n",
      "['389801252', 'Instagram', '113954816', 'USD', '0.0', '2161558', '1289', '4.5', '4.0', '10.23', '12+', 'Photo & Video', '37', '0', '29', '1']\n",
      "\n",
      "\n",
      "Number of rows: 7197\n",
      "Number of columns: 16\n",
      "['Coloring book moana', 'ART_AND_DESIGN', '3.9', '967', '14M', '500,000+', 'Free', '0', 'Everyone', 'Art & Design;Pretend Play', 'January 15, 2018', '2.0.0', '4.0.3 and up']\n",
      "\n",
      "\n",
      "Number of rows: 10841\n",
      "Number of columns: 13\n",
      "['id', 'track_name', 'size_bytes', 'currency', 'price', 'rating_count_tot', 'rating_count_ver', 'user_rating', 'user_rating_ver', 'ver', 'cont_rating', 'prime_genre', 'sup_devices.num', 'ipadSc_urls.num', 'lang.num', 'vpp_lic']\n",
      "['App', 'Category', 'Rating', 'Reviews', 'Size', 'Installs', 'Type', 'Price', 'Content Rating', 'Genres', 'Last Updated', 'Current Ver', 'Android Ver']\n"
     ]
    }
   ],
   "source": [
    "#reading files with csv reader\n",
    "\n",
    "from csv import reader\n",
    "\n",
    "file1 = open(\"AppleStore.csv\",encoding ='utf8')\n",
    "file2 = open(\"googleplaystore.csv\", encoding = 'utf8')\n",
    "apple = list(reader(file1))\n",
    "google = list(reader(file2))\n",
    "explore_data(apple,1,5)\n",
    "explore_data(google,1,5)\n",
    "explore_data(apple[1:],1,2,True)\n",
    "explore_data(google[1:],1,2,True)\n",
    "print(apple[0])\n",
    "print(google[0])\n",
    "\n"
   ]
  },
  {
   "cell_type": "code",
   "execution_count": 9,
   "metadata": {},
   "outputs": [],
   "source": [
    "def explore_data(dataset, start, end, rows_and_columns=False):\n",
    "    dataset_slice = dataset[start:end]    \n",
    "    for row in dataset_slice:\n",
    "        print(row)\n",
    "        print('\\n') # adds a new (empty) line after each row\n",
    "\n",
    "    if rows_and_columns:\n",
    "        print('Number of rows:', len(dataset))\n",
    "        print('Number of columns:', len(dataset[0]))"
   ]
  },
  {
   "cell_type": "code",
   "execution_count": 11,
   "metadata": {
    "scrolled": true
   },
   "outputs": [
    {
     "name": "stdout",
     "output_type": "stream",
     "text": [
      "['Life Made WI-Fi Touchscreen Photo Frame', '1.9', '19', '3.0M', '1,000+', 'Free', '0', 'Everyone', '', 'February 11, 2018', '1.0.19', '4.0 and up']\n"
     ]
    }
   ],
   "source": [
    "print(google[10473])"
   ]
  },
  {
   "cell_type": "code",
   "execution_count": 12,
   "metadata": {},
   "outputs": [],
   "source": [
    "del google[10473]"
   ]
  },
  {
   "cell_type": "markdown",
   "metadata": {},
   "source": [
    "Searching for duplicate values inside the google dataset\n"
   ]
  },
  {
   "cell_type": "code",
   "execution_count": 14,
   "metadata": {
    "scrolled": true
   },
   "outputs": [
    {
     "name": "stdout",
     "output_type": "stream",
     "text": [
      "483\n"
     ]
    }
   ],
   "source": [
    "duplicates = []\n",
    "no_duplicates = 0\n",
    "for row in google:\n",
    "    if row in duplicates:\n",
    "        no_duplicates +=1\n",
    "    else:\n",
    "        duplicates.append(row)\n",
    "print(no_duplicates)\n",
    "\n"
   ]
  },
  {
   "cell_type": "markdown",
   "metadata": {},
   "source": [
    "So we have 483 duplicate entries in the google dataset, for some reason. We will write a custom function to clean the datasets."
   ]
  },
  {
   "cell_type": "code",
   "execution_count": 17,
   "metadata": {
    "scrolled": true
   },
   "outputs": [
    {
     "name": "stdout",
     "output_type": "stream",
     "text": [
      "['U Launcher Lite – FREE Live Cool Themes, Hide Apps', 'ART_AND_DESIGN', '4.7', '87510', '8.7M', '5,000,000+', 'Free', '0', 'Everyone', 'Art & Design', 'August 1, 2018', '1.2.4', '4.0.3 and up']\n",
      "\n",
      "\n",
      "['Sketch - Draw & Paint', 'ART_AND_DESIGN', '4.5', '215644', '25M', '50,000,000+', 'Free', '0', 'Teen', 'Art & Design', 'June 8, 2018', 'Varies with device', '4.2 and up']\n",
      "\n",
      "\n",
      "['Pixel Draw - Number Art Coloring Book', 'ART_AND_DESIGN', '4.3', '967', '2.8M', '100,000+', 'Free', '0', 'Everyone', 'Art & Design;Creativity', 'June 20, 2018', '1.1', '4.4 and up']\n",
      "\n",
      "\n",
      "['Paper flowers instructions', 'ART_AND_DESIGN', '4.4', '167', '5.6M', '50,000+', 'Free', '0', 'Everyone', 'Art & Design', 'March 26, 2017', '1.0', '2.3 and up']\n",
      "\n",
      "\n",
      "Number of rows: 9659\n",
      "Number of columns: 13\n"
     ]
    }
   ],
   "source": [
    "reviews_max = {}\n",
    "for row in google[1:]:    \n",
    "    name = row[0]\n",
    "    n_reviews = float(row[3])\n",
    "    if name not in reviews_max:\n",
    "        reviews_max[name]= n_reviews\n",
    "    elif reviews_max[name] < n_reviews:\n",
    "        reviews_max[name] = n_reviews\n",
    "\n",
    "android_clean = []\n",
    "already_added = []\n",
    "for row in google[1:]:\n",
    "    name = row[0]\n",
    "    n_reviews = float(row[3])\n",
    "    if n_reviews == reviews_max[name] and name not in already_added:\n",
    "        android_clean.append(row)\n",
    "        already_added.append(name)\n",
    "\n",
    "explore_data(android_clean,1,5,True)\n",
    "    "
   ]
  },
  {
   "cell_type": "markdown",
   "metadata": {},
   "source": [
    "A quick function to determine if the name contains \"ilegal\" characters."
   ]
  },
  {
   "cell_type": "code",
   "execution_count": 18,
   "metadata": {},
   "outputs": [
    {
     "data": {
      "text/plain": [
       "True"
      ]
     },
     "execution_count": 18,
     "metadata": {},
     "output_type": "execute_result"
    }
   ],
   "source": [
    "def try_(string):\n",
    "    no = 0\n",
    "    for letter in string:\n",
    "        \n",
    "        if ord(letter) > 127:\n",
    "            no+=1\n",
    "            if no >3:\n",
    "                return False\n",
    "    return True\n",
    "\n",
    "try_('Instagram')\n"
   ]
  },
  {
   "cell_type": "code",
   "execution_count": 19,
   "metadata": {},
   "outputs": [
    {
     "data": {
      "text/plain": [
       "False"
      ]
     },
     "execution_count": 19,
     "metadata": {},
     "output_type": "execute_result"
    }
   ],
   "source": [
    "try_('爱奇艺PPS -《欢乐颂2》电视剧热播')\n"
   ]
  },
  {
   "cell_type": "code",
   "execution_count": 20,
   "metadata": {},
   "outputs": [
    {
     "data": {
      "text/plain": [
       "True"
      ]
     },
     "execution_count": 20,
     "metadata": {},
     "output_type": "execute_result"
    }
   ],
   "source": [
    "try_('Docs To Go™ Free Office Suite')\n"
   ]
  },
  {
   "cell_type": "code",
   "execution_count": 21,
   "metadata": {},
   "outputs": [
    {
     "data": {
      "text/plain": [
       "True"
      ]
     },
     "execution_count": 21,
     "metadata": {},
     "output_type": "execute_result"
    }
   ],
   "source": [
    "try_('Instachat 😜')"
   ]
  },
  {
   "cell_type": "markdown",
   "metadata": {},
   "source": [
    "We will try now to isolate free apps in separate lists."
   ]
  },
  {
   "cell_type": "code",
   "execution_count": 22,
   "metadata": {},
   "outputs": [
    {
     "name": "stdout",
     "output_type": "stream",
     "text": [
      "8904\n",
      "4056\n"
     ]
    }
   ],
   "source": [
    "freeappsandroid = []\n",
    "freeappsios= []\n",
    "for row in android_clean:\n",
    "    if row[6] == \"Free\" :\n",
    "        freeappsandroid.append(row)\n",
    "for row in apple[1:]:\n",
    "    if float(row[4]) == 0:\n",
    "        freeappsios.append(row)\n",
    "print(len(freeappsandroid))\n",
    "print(len(freeappsios))\n",
    "    "
   ]
  },
  {
   "cell_type": "markdown",
   "metadata": {},
   "source": [
    "Ok, apparenlty now we need to find a good genre for our new free app. Looking into apple and android most popular genres"
   ]
  },
  {
   "cell_type": "code",
   "execution_count": 25,
   "metadata": {},
   "outputs": [],
   "source": [
    "def freq_table(dataset,index):\n",
    "    freq_table = {}\n",
    "    for row in dataset:\n",
    "        if row[index] in freq_table:\n",
    "            freq_table[row[index]] +=1\n",
    "        else:\n",
    "            freq_table[row[index]] =1\n",
    "    for pair in freq_table:\n",
    "        freq_table[pair] /= len(dataset)\n",
    "        freq_table[pair] *=100\n",
    "    return freq_table\n",
    "    "
   ]
  },
  {
   "cell_type": "code",
   "execution_count": 26,
   "metadata": {},
   "outputs": [],
   "source": [
    "def display_table(dataset, index):\n",
    "    table = freq_table(dataset, index)\n",
    "    table_display = []\n",
    "    for key in table:\n",
    "        key_val_as_tuple = (table[key], key)\n",
    "        table_display.append(key_val_as_tuple)\n",
    "\n",
    "    table_sorted = sorted(table_display, reverse = True)\n",
    "    for entry in table_sorted:\n",
    "        print(entry[1], ':', entry[0])"
   ]
  },
  {
   "cell_type": "markdown",
   "metadata": {},
   "source": [
    "Top apps for Android:"
   ]
  },
  {
   "cell_type": "code",
   "execution_count": 27,
   "metadata": {
    "scrolled": false
   },
   "outputs": [
    {
     "name": "stdout",
     "output_type": "stream",
     "text": [
      "Tools : 8.572315974738585\n",
      "Entertainment : 5.808054664043897\n",
      "Education : 5.280049694585361\n",
      "Business : 4.348276219070297\n",
      "Medical : 4.089450253649446\n",
      "Personalization : 3.892742519929599\n",
      "Productivity : 3.8720364426959315\n",
      "Lifestyle : 3.8099182109949266\n",
      "Finance : 3.571798322807744\n",
      "Sports : 3.4268557821720678\n",
      "Communication : 3.2612071643027227\n",
      "Action : 3.095558546433378\n",
      "Health & Fitness : 2.9816751216482036\n",
      "Photography : 2.9092038513303655\n",
      "News & Magazines : 2.6296718086758464\n",
      "Social : 2.474376229423336\n",
      "Books & Reference : 2.298374572937157\n",
      "Travel & Local : 2.2569624184698207\n",
      "Shopping : 2.0913138006004766\n",
      "Simulation : 1.9981364530489698\n",
      "Arcade : 1.9049591054974633\n",
      "Dating : 1.760016564861787\n",
      "Casual : 1.7082513717776169\n",
      "Video Players & Editors : 1.6771922559271144\n",
      "Maps & Navigation : 1.3562480588052592\n",
      "Puzzle : 1.232011595403251\n",
      "Food & Drink : 1.1595403250854126\n",
      "Role Playing : 1.0870690547675743\n",
      "Strategy : 0.9835386685992339\n",
      "Racing : 0.9421265141318977\n",
      "Auto & Vehicles : 0.8800082824308935\n",
      "Libraries & Demo : 0.8696552438140595\n",
      "Weather : 0.8178900507298892\n",
      "House & Home : 0.7557718190288849\n",
      "Adventure : 0.7557718190288849\n",
      "Events : 0.6625944714773786\n",
      "Art & Design : 0.5901232011595403\n",
      "Comics : 0.5694171239258723\n",
      "Beauty : 0.5487110466922042\n",
      "Card : 0.4865928149911999\n",
      "Parenting : 0.4762397763743658\n",
      "Board : 0.4348276219070297\n",
      "Casino : 0.4037685060565276\n",
      "Trivia : 0.3934154674396935\n",
      "Educational;Education : 0.3934154674396935\n",
      "Educational : 0.3830624288228595\n",
      "Education;Education : 0.37270939020602545\n",
      "Casual;Pretend Play : 0.258825965420851\n",
      "Word : 0.2381198881871829\n",
      "Music : 0.19670773371984676\n",
      "Puzzle;Brain Games : 0.1760016564861787\n",
      "Education;Pretend Play : 0.1760016564861787\n",
      "Racing;Action & Adventure : 0.16564861786934465\n",
      "Entertainment;Music & Video : 0.1552955792525106\n",
      "Board;Brain Games : 0.14494254063567658\n",
      "Arcade;Action & Adventure : 0.14494254063567658\n",
      "Educational;Pretend Play : 0.13458950201884254\n",
      "Casual;Action & Adventure : 0.13458950201884254\n",
      "Casual;Brain Games : 0.12423646340200849\n",
      "Action;Action & Adventure : 0.12423646340200849\n",
      "Simulation;Action & Adventure : 0.07247127031783829\n",
      "Parenting;Education : 0.07247127031783829\n",
      "Entertainment;Brain Games : 0.07247127031783829\n",
      "Parenting;Music & Video : 0.062118231701004244\n",
      "Educational;Brain Games : 0.062118231701004244\n",
      "Education;Creativity : 0.062118231701004244\n",
      "Casual;Creativity : 0.062118231701004244\n",
      "Art & Design;Creativity : 0.062118231701004244\n",
      "Educational;Creativity : 0.05176519308417021\n",
      "Adventure;Action & Adventure : 0.05176519308417021\n",
      "Sports;Action & Adventure : 0.04141215446733616\n",
      "Role Playing;Pretend Play : 0.04141215446733616\n",
      "Role Playing;Action & Adventure : 0.04141215446733616\n",
      "Education;Brain Games : 0.04141215446733616\n",
      "Education;Action & Adventure : 0.04141215446733616\n",
      "Simulation;Pretend Play : 0.031059115850502122\n",
      "Simulation;Education : 0.031059115850502122\n",
      "Puzzle;Action & Adventure : 0.031059115850502122\n",
      "Music;Music & Video : 0.031059115850502122\n",
      "Entertainment;Creativity : 0.031059115850502122\n",
      "Entertainment;Action & Adventure : 0.031059115850502122\n",
      "Educational;Action & Adventure : 0.031059115850502122\n",
      "Education;Music & Video : 0.031059115850502122\n",
      "Casual;Education : 0.031059115850502122\n",
      "Board;Action & Adventure : 0.031059115850502122\n",
      "Video Players & Editors;Music & Video : 0.02070607723366808\n",
      "Strategy;Action & Adventure : 0.02070607723366808\n",
      "Puzzle;Creativity : 0.02070607723366808\n",
      "Entertainment;Pretend Play : 0.02070607723366808\n",
      "Card;Action & Adventure : 0.02070607723366808\n",
      "Books & Reference;Education : 0.02070607723366808\n",
      "Video Players & Editors;Creativity : 0.01035303861683404\n",
      "Trivia;Education : 0.01035303861683404\n",
      "Travel & Local;Action & Adventure : 0.01035303861683404\n",
      "Tools;Education : 0.01035303861683404\n",
      "Strategy;Education : 0.01035303861683404\n",
      "Strategy;Creativity : 0.01035303861683404\n",
      "Role Playing;Education : 0.01035303861683404\n",
      "Role Playing;Brain Games : 0.01035303861683404\n",
      "Racing;Pretend Play : 0.01035303861683404\n",
      "Puzzle;Education : 0.01035303861683404\n",
      "Parenting;Brain Games : 0.01035303861683404\n",
      "Music & Audio;Music & Video : 0.01035303861683404\n",
      "Lifestyle;Pretend Play : 0.01035303861683404\n",
      "Lifestyle;Education : 0.01035303861683404\n",
      "Health & Fitness;Education : 0.01035303861683404\n",
      "Health & Fitness;Action & Adventure : 0.01035303861683404\n",
      "Entertainment;Education : 0.01035303861683404\n",
      "Communication;Creativity : 0.01035303861683404\n",
      "Comics;Creativity : 0.01035303861683404\n",
      "Casual;Music & Video : 0.01035303861683404\n",
      "Books & Reference;Creativity : 0.01035303861683404\n",
      "Board;Pretend Play : 0.01035303861683404\n",
      "Art & Design;Pretend Play : 0.01035303861683404\n",
      "Art & Design;Action & Adventure : 0.01035303861683404\n",
      "Arcade;Pretend Play : 0.01035303861683404\n",
      "Adventure;Education : 0.01035303861683404\n",
      "Adventure;Brain Games : 0.01035303861683404\n"
     ]
    }
   ],
   "source": [
    "display_table(android_clean,9)\n"
   ]
  },
  {
   "cell_type": "markdown",
   "metadata": {},
   "source": [
    "Top apps for iOS"
   ]
  },
  {
   "cell_type": "code",
   "execution_count": 28,
   "metadata": {
    "scrolled": true
   },
   "outputs": [
    {
     "name": "stdout",
     "output_type": "stream",
     "text": [
      "Games : 53.66124774211477\n",
      "Entertainment : 7.433652910935113\n",
      "Education : 6.294289287203002\n",
      "Photo & Video : 4.849242740030569\n",
      "Utilities : 3.4458802278727245\n",
      "Health & Fitness : 2.501042100875365\n",
      "Productivity : 2.473252744198972\n",
      "Social Networking : 2.3204112824788106\n",
      "Lifestyle : 2.0008336807002918\n",
      "Music : 1.9174656106711132\n",
      "Shopping : 1.6951507572599693\n",
      "Sports : 1.5839933305543976\n",
      "Book : 1.5562039738780047\n",
      "Finance : 1.445046547172433\n",
      "Travel : 1.1254689453939142\n",
      "News : 1.0421008753647354\n",
      "Weather : 1.0004168403501459\n",
      "Reference : 0.8892594136445742\n",
      "Food & Drink : 0.8753647353063776\n",
      "Business : 0.7919966652771988\n",
      "Navigation : 0.6391552035570377\n",
      "Medical : 0.31957760177851885\n",
      "Catalogs : 0.1389467833819647\n"
     ]
    }
   ],
   "source": [
    "display_table(apple[1:],11)"
   ]
  },
  {
   "cell_type": "markdown",
   "metadata": {},
   "source": [
    "As we can see, nobody from android can take top place - it's a mix between tools, games, entertainment apps, etc.\n",
    "\n",
    "At iOS level however, Games is the most popular genre by far"
   ]
  },
  {
   "cell_type": "markdown",
   "metadata": {},
   "source": [
    "We can see the avg number of ratings an app of a certain\n",
    "genre got , for iOS"
   ]
  },
  {
   "cell_type": "code",
   "execution_count": 29,
   "metadata": {
    "scrolled": true
   },
   "outputs": [
    {
     "name": "stdout",
     "output_type": "stream",
     "text": [
      "Social Networking: 45498.89820359281\n",
      "Photo & Video: 14352.280802292264\n",
      "Games: 13691.996633868463\n",
      "Music: 28842.021739130436\n",
      "Reference: 22410.84375\n",
      "Health & Fitness: 9913.172222222222\n",
      "Weather: 22181.027777777777\n",
      "Utilities: 6863.822580645161\n",
      "Travel: 14129.444444444445\n",
      "Shopping: 18615.32786885246\n",
      "News: 13015.066666666668\n",
      "Navigation: 11853.95652173913\n",
      "Lifestyle: 6161.763888888889\n",
      "Entertainment: 7533.678504672897\n",
      "Food & Drink: 13938.619047619048\n",
      "Sports: 14026.929824561403\n",
      "Book: 5125.4375\n",
      "Finance: 11047.653846153846\n",
      "Education: 2239.2295805739514\n",
      "Productivity: 8051.3258426966295\n",
      "Business: 4788.087719298245\n",
      "Catalogs: 1732.5\n",
      "Medical: 592.7826086956521\n"
     ]
    }
   ],
   "source": [
    "app_genres_ios = freq_table(apple[1:],11)\n",
    "for genre in app_genres_ios:\n",
    "    total = 0\n",
    "    len_genre = 0\n",
    "    for row in apple[1:]:\n",
    "        genre_app = row[11]\n",
    "        if genre_app == genre:\n",
    "            total += float(row[5])\n",
    "            len_genre +=1\n",
    "    avg_no_ratings = total / len_genre\n",
    "    print(str(genre) + \": \" + str(avg_no_ratings))\n"
   ]
  },
  {
   "cell_type": "markdown",
   "metadata": {},
   "source": [
    "we will now see how many installs each genre has for android"
   ]
  },
  {
   "cell_type": "code",
   "execution_count": 33,
   "metadata": {},
   "outputs": [
    {
     "name": "stdout",
     "output_type": "stream",
     "text": [
      "ART_AND_DESIGN : 1856362.2950819673\n",
      "AUTO_AND_VEHICLES : 625061.305882353\n",
      "BEAUTY : 513151.88679245283\n",
      "BOOKS_AND_REFERENCE : 7504367.459459459\n",
      "BUSINESS : 1659916.3452380951\n",
      "COMICS : 803234.8214285715\n",
      "COMMUNICATION : 35042146.82857143\n",
      "DATING : 828971.2176470588\n",
      "EDUCATION : 1775252.3364485982\n",
      "ENTERTAINMENT : 11375402.298850575\n",
      "EVENTS : 249580.640625\n",
      "FINANCE : 1319851.4028985507\n",
      "FOOD_AND_DRINK : 1891060.2767857143\n",
      "HEALTH_AND_FITNESS : 3972300.388888889\n",
      "HOUSE_AND_HOME : 1331540.5616438356\n",
      "LIBRARIES_AND_DEMO : 630903.6904761905\n",
      "LIFESTYLE : 1365375.4444444445\n",
      "GAME : 14226135.745243128\n",
      "FAMILY : 3319926.0965848453\n",
      "MEDICAL : 96944.49873417722\n",
      "SOCIAL : 22961790.384937238\n",
      "SHOPPING : 6932419.727722772\n",
      "PHOTOGRAPHY : 16577037.918149466\n",
      "SPORTS : 3373767.6861538463\n",
      "TRAVEL_AND_LOCAL : 13218662.767123288\n",
      "TOOLS : 9774151.887816647\n",
      "PERSONALIZATION : 4075783.994680851\n",
      "PRODUCTIVITY : 15489549.114973262\n",
      "PARENTING : 525351.8333333334\n",
      "WEATHER : 4570892.658227848\n",
      "VIDEO_PLAYERS : 23975016.585365854\n",
      "NEWS_AND_MAGAZINES : 9327628.976377953\n",
      "MAPS_AND_NAVIGATION : 3841846.4885496185\n"
     ]
    }
   ],
   "source": [
    "categories_android = freq_table(android_clean, 1)\n",
    "for category in categories_android:\n",
    "    total = 0\n",
    "    len_category = 0\n",
    "    for app in android_clean:\n",
    "        category_app = app[1]\n",
    "        if category_app == category:            \n",
    "            n_installs = app[5]\n",
    "            n_installs = n_installs.replace(',', '')\n",
    "            n_installs = n_installs.replace('+', '')\n",
    "            total += float(n_installs)\n",
    "            len_category += 1\n",
    "    avg_n_installs = total / len_category\n",
    "    print(category, ':', avg_n_installs)"
   ]
  },
  {
   "cell_type": "markdown",
   "metadata": {},
   "source": [
    "### Conclusion\n",
    "\n",
    "The goal of this project was to familiarize ourself with pure python analysis, without Pandas or NumPy, and to find a suitable app genre from the datasets after cleaning them up. We can conclude that a game would probably be the best choice to try and enter the market with."
   ]
  }
 ],
 "metadata": {
  "kernelspec": {
   "display_name": "Python 3",
   "language": "python",
   "name": "python3"
  },
  "language_info": {
   "codemirror_mode": {
    "name": "ipython",
    "version": 3
   },
   "file_extension": ".py",
   "mimetype": "text/x-python",
   "name": "python",
   "nbconvert_exporter": "python",
   "pygments_lexer": "ipython3",
   "version": "3.7.3"
  }
 },
 "nbformat": 4,
 "nbformat_minor": 2
}
